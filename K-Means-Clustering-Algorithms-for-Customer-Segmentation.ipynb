{
 "cells": [
  {
   "cell_type": "code",
   "execution_count": 178,
   "metadata": {
    "collapsed": true
   },
   "outputs": [],
   "source": [
    "# Import important packages\n",
    "import numpy as np\n",
    "import pandas as pd\n",
    "import matplotlib.pyplot as plt\n",
    "import matplotlib as mpl"
   ]
  },
  {
   "cell_type": "code",
   "execution_count": 179,
   "metadata": {
    "collapsed": true
   },
   "outputs": [],
   "source": [
    "# Plot styling\n",
    "import seaborn as sns; sns.set()  # for plot styling\n",
    "%matplotlib inline\n",
    "plt.rcParams['figure.figsize'] = (16, 9)\n",
    "mpl.style.use('ggplot') # for ggplot-like style"
   ]
  },
  {
   "cell_type": "code",
   "execution_count": 180,
   "metadata": {
    "collapsed": true
   },
   "outputs": [],
   "source": [
    "# Read the data\n",
    "cdata=pd.read_csv('CLV.csv')"
   ]
  },
  {
   "cell_type": "code",
   "execution_count": 181,
   "metadata": {},
   "outputs": [
    {
     "data": {
      "text/html": [
       "<div>\n",
       "<style scoped>\n",
       "    .dataframe tbody tr th:only-of-type {\n",
       "        vertical-align: middle;\n",
       "    }\n",
       "\n",
       "    .dataframe tbody tr th {\n",
       "        vertical-align: top;\n",
       "    }\n",
       "\n",
       "    .dataframe thead th {\n",
       "        text-align: right;\n",
       "    }\n",
       "</style>\n",
       "<table border=\"1\" class=\"dataframe\">\n",
       "  <thead>\n",
       "    <tr style=\"text-align: right;\">\n",
       "      <th></th>\n",
       "      <th>INCOME</th>\n",
       "      <th>SPEND</th>\n",
       "    </tr>\n",
       "  </thead>\n",
       "  <tbody>\n",
       "    <tr>\n",
       "      <td>0</td>\n",
       "      <td>233</td>\n",
       "      <td>150</td>\n",
       "    </tr>\n",
       "    <tr>\n",
       "      <td>1</td>\n",
       "      <td>250</td>\n",
       "      <td>187</td>\n",
       "    </tr>\n",
       "    <tr>\n",
       "      <td>2</td>\n",
       "      <td>204</td>\n",
       "      <td>172</td>\n",
       "    </tr>\n",
       "    <tr>\n",
       "      <td>3</td>\n",
       "      <td>236</td>\n",
       "      <td>178</td>\n",
       "    </tr>\n",
       "    <tr>\n",
       "      <td>4</td>\n",
       "      <td>354</td>\n",
       "      <td>163</td>\n",
       "    </tr>\n",
       "  </tbody>\n",
       "</table>\n",
       "</div>"
      ],
      "text/plain": [
       "   INCOME  SPEND\n",
       "0     233    150\n",
       "1     250    187\n",
       "2     204    172\n",
       "3     236    178\n",
       "4     354    163"
      ]
     },
     "execution_count": 181,
     "metadata": {},
     "output_type": "execute_result"
    }
   ],
   "source": [
    "cdata.head()"
   ]
  },
  {
   "cell_type": "code",
   "execution_count": 182,
   "metadata": {},
   "outputs": [
    {
     "data": {
      "text/plain": [
       "303"
      ]
     },
     "execution_count": 182,
     "metadata": {},
     "output_type": "execute_result"
    }
   ],
   "source": [
    "len(cdata)"
   ]
  },
  {
   "cell_type": "markdown",
   "metadata": {},
   "source": [
    "## Exploratory Analysis"
   ]
  },
  {
   "cell_type": "code",
   "execution_count": 183,
   "metadata": {},
   "outputs": [
    {
     "data": {
      "text/html": [
       "<div>\n",
       "<style scoped>\n",
       "    .dataframe tbody tr th:only-of-type {\n",
       "        vertical-align: middle;\n",
       "    }\n",
       "\n",
       "    .dataframe tbody tr th {\n",
       "        vertical-align: top;\n",
       "    }\n",
       "\n",
       "    .dataframe thead th {\n",
       "        text-align: right;\n",
       "    }\n",
       "</style>\n",
       "<table border=\"1\" class=\"dataframe\">\n",
       "  <thead>\n",
       "    <tr style=\"text-align: right;\">\n",
       "      <th></th>\n",
       "      <th>INCOME</th>\n",
       "      <th>SPEND</th>\n",
       "    </tr>\n",
       "  </thead>\n",
       "  <tbody>\n",
       "    <tr>\n",
       "      <td>count</td>\n",
       "      <td>303.000000</td>\n",
       "      <td>303.000000</td>\n",
       "    </tr>\n",
       "    <tr>\n",
       "      <td>mean</td>\n",
       "      <td>245.273927</td>\n",
       "      <td>149.646865</td>\n",
       "    </tr>\n",
       "    <tr>\n",
       "      <td>std</td>\n",
       "      <td>48.499412</td>\n",
       "      <td>22.905161</td>\n",
       "    </tr>\n",
       "    <tr>\n",
       "      <td>min</td>\n",
       "      <td>126.000000</td>\n",
       "      <td>71.000000</td>\n",
       "    </tr>\n",
       "    <tr>\n",
       "      <td>25%</td>\n",
       "      <td>211.000000</td>\n",
       "      <td>133.500000</td>\n",
       "    </tr>\n",
       "    <tr>\n",
       "      <td>50%</td>\n",
       "      <td>240.000000</td>\n",
       "      <td>153.000000</td>\n",
       "    </tr>\n",
       "    <tr>\n",
       "      <td>75%</td>\n",
       "      <td>274.000000</td>\n",
       "      <td>166.000000</td>\n",
       "    </tr>\n",
       "    <tr>\n",
       "      <td>max</td>\n",
       "      <td>417.000000</td>\n",
       "      <td>202.000000</td>\n",
       "    </tr>\n",
       "  </tbody>\n",
       "</table>\n",
       "</div>"
      ],
      "text/plain": [
       "           INCOME       SPEND\n",
       "count  303.000000  303.000000\n",
       "mean   245.273927  149.646865\n",
       "std     48.499412   22.905161\n",
       "min    126.000000   71.000000\n",
       "25%    211.000000  133.500000\n",
       "50%    240.000000  153.000000\n",
       "75%    274.000000  166.000000\n",
       "max    417.000000  202.000000"
      ]
     },
     "execution_count": 183,
     "metadata": {},
     "output_type": "execute_result"
    }
   ],
   "source": [
    "# Descriptive statistics of the dataset\n",
    "cdata.describe()"
   ]
  },
  {
   "cell_type": "code",
   "execution_count": 195,
   "metadata": {},
   "outputs": [
    {
     "data": {
      "text/plain": [
       "Text(0.5,0,'Income / spend')"
      ]
     },
     "execution_count": 195,
     "metadata": {},
     "output_type": "execute_result"
    },
    {
     "data": {
      "image/png": "[encoded data removed]",
      "text/plain": [
       "<matplotlib.figure.Figure at 0x1a1e5304a8>"
      ]
     },
     "metadata": {},
     "output_type": "display_data"
    }
   ],
   "source": [
    "# Visualize data\n",
    "plot_spend=sns.distplot(cdata['SPEND'], color=\"#3498db\")\n",
    "plot_income=sns.distplot(cdata['INCOME'], color=\"#e74c3c\")\n",
    "plt.xlabel('Income / spend')"
   ]
  },
  {
   "cell_type": "code",
   "execution_count": 164,
   "metadata": {
    "scrolled": true
   },
   "outputs": [
    {
     "name": "stderr",
     "output_type": "stream",
     "text": [
      "/Users/yunpeng/anaconda3/lib/python3.6/site-packages/seaborn/categorical.py:598: FutureWarning: remove_na is deprecated and is a private function. Do not use.\n",
      "  kde_data = remove_na(group_data)\n",
      "/Users/yunpeng/anaconda3/lib/python3.6/site-packages/seaborn/categorical.py:826: FutureWarning: remove_na is deprecated and is a private function. Do not use.\n",
      "  violin_data = remove_na(group_data)\n"
     ]
    },
    {
     "data": {
      "text/plain": [
       "[(0, 420)]"
      ]
     },
     "execution_count": 164,
     "metadata": {},
     "output_type": "execute_result"
    },
    {
     "data": {
      "image/png": "[encoded data removed]",
      "text/plain": [
       "<matplotlib.figure.Figure at 0x1a1e0b8ef0>"
      ]
     },
     "metadata": {},
     "output_type": "display_data"
    }
   ],
   "source": [
    "#Violin plot of Income and Spend\n",
    "f, axes = plt.subplots(1,2, figsize=(12,6), sharex=True, sharey=True)\n",
    "v1 = sns.violinplot(data=cdata, x='INCOME', color=\"skyblue\",ax=axes[0])\n",
    "v2 = sns.violinplot(data=cdata, x='SPEND',color=\"lightgreen\", ax=axes[1])\n",
    "v1.set(xlim=(0,420))"
   ]
  },
  {
   "cell_type": "code",
   "execution_count": 165,
   "metadata": {},
   "outputs": [
    {
     "data": {
      "text/html": [
       "<div>\n",
       "<style scoped>\n",
       "    .dataframe tbody tr th:only-of-type {\n",
       "        vertical-align: middle;\n",
       "    }\n",
       "\n",
       "    .dataframe tbody tr th {\n",
       "        vertical-align: top;\n",
       "    }\n",
       "\n",
       "    .dataframe thead th {\n",
       "        text-align: right;\n",
       "    }\n",
       "</style>\n",
       "<table border=\"1\" class=\"dataframe\">\n",
       "  <thead>\n",
       "    <tr style=\"text-align: right;\">\n",
       "      <th></th>\n",
       "      <th>INCOME</th>\n",
       "      <th>SPEND</th>\n",
       "    </tr>\n",
       "  </thead>\n",
       "  <tbody>\n",
       "    <tr>\n",
       "      <td>0</td>\n",
       "      <td>233</td>\n",
       "      <td>150</td>\n",
       "    </tr>\n",
       "    <tr>\n",
       "      <td>1</td>\n",
       "      <td>250</td>\n",
       "      <td>187</td>\n",
       "    </tr>\n",
       "    <tr>\n",
       "      <td>2</td>\n",
       "      <td>204</td>\n",
       "      <td>172</td>\n",
       "    </tr>\n",
       "    <tr>\n",
       "      <td>3</td>\n",
       "      <td>236</td>\n",
       "      <td>178</td>\n",
       "    </tr>\n",
       "    <tr>\n",
       "      <td>4</td>\n",
       "      <td>354</td>\n",
       "      <td>163</td>\n",
       "    </tr>\n",
       "    <tr>\n",
       "      <td>...</td>\n",
       "      <td>...</td>\n",
       "      <td>...</td>\n",
       "    </tr>\n",
       "    <tr>\n",
       "      <td>298</td>\n",
       "      <td>241</td>\n",
       "      <td>123</td>\n",
       "    </tr>\n",
       "    <tr>\n",
       "      <td>299</td>\n",
       "      <td>264</td>\n",
       "      <td>132</td>\n",
       "    </tr>\n",
       "    <tr>\n",
       "      <td>300</td>\n",
       "      <td>193</td>\n",
       "      <td>141</td>\n",
       "    </tr>\n",
       "    <tr>\n",
       "      <td>301</td>\n",
       "      <td>131</td>\n",
       "      <td>115</td>\n",
       "    </tr>\n",
       "    <tr>\n",
       "      <td>302</td>\n",
       "      <td>236</td>\n",
       "      <td>174</td>\n",
       "    </tr>\n",
       "  </tbody>\n",
       "</table>\n",
       "<p>303 rows × 2 columns</p>\n",
       "</div>"
      ],
      "text/plain": [
       "     INCOME  SPEND\n",
       "0       233    150\n",
       "1       250    187\n",
       "2       204    172\n",
       "3       236    178\n",
       "4       354    163\n",
       "..      ...    ...\n",
       "298     241    123\n",
       "299     264    132\n",
       "300     193    141\n",
       "301     131    115\n",
       "302     236    174\n",
       "\n",
       "[303 rows x 2 columns]"
      ]
     },
     "execution_count": 165,
     "metadata": {},
     "output_type": "execute_result"
    }
   ],
   "source": [
    "cdata"
   ]
  },
  {
   "cell_type": "code",
   "execution_count": 166,
   "metadata": {
    "scrolled": false
   },
   "outputs": [
    {
     "data": {
      "text/plain": [
       "array([[233, 150],\n",
       "       [250, 187],\n",
       "       [204, 172],\n",
       "       [236, 178],\n",
       "       [354, 163],\n",
       "       [192, 148],\n",
       "       [294, 153],\n",
       "       [263, 173],\n",
       "       [199, 162],\n",
       "       [168, 174],\n",
       "       [239, 160],\n",
       "       [275, 139],\n",
       "       [266, 171],\n",
       "       [211, 144],\n",
       "       [283, 162],\n",
       "       [219, 158],\n",
       "       [340, 172],\n",
       "       [226, 114],\n",
       "       [247, 171],\n",
       "       [239, 151],\n",
       "       [234, 161],\n",
       "       [233, 179],\n",
       "       [226, 178],\n",
       "       [243, 137],\n",
       "       [199, 178],\n",
       "       [302, 162],\n",
       "       [212, 157],\n",
       "       [175, 123],\n",
       "       [417, 157],\n",
       "       [197, 152],\n",
       "       [198, 168],\n",
       "       [177, 140],\n",
       "       [219, 188],\n",
       "       [273, 152],\n",
       "       [213, 125],\n",
       "       [177, 160],\n",
       "       [304, 170],\n",
       "       [232, 165],\n",
       "       [269, 148],\n",
       "       [360, 151],\n",
       "       [308, 142],\n",
       "       [245, 180],\n",
       "       [208, 148],\n",
       "       [264, 143],\n",
       "       [321, 182],\n",
       "       [325, 172],\n",
       "       [235, 180],\n",
       "       [257, 156],\n",
       "       [216, 115],\n",
       "       [234, 160],\n",
       "       [256, 149],\n",
       "       [302, 151],\n",
       "       [231, 146],\n",
       "       [141, 175],\n",
       "       [252, 172],\n",
       "       [201, 158],\n",
       "       [222, 186],\n",
       "       [260, 185],\n",
       "       [182, 174],\n",
       "       [303, 159],\n",
       "       [265, 130],\n",
       "       [309, 156],\n",
       "       [186, 190],\n",
       "       [203, 132],\n",
       "       [211, 165],\n",
       "       [183, 182],\n",
       "       [222, 143],\n",
       "       [234, 175],\n",
       "       [220, 170],\n",
       "       [209, 163],\n",
       "       [258, 147],\n",
       "       [227, 154],\n",
       "       [204, 202],\n",
       "       [261, 186],\n",
       "       [213, 165],\n",
       "       [250, 161],\n",
       "       [245, 166],\n",
       "       [221, 164],\n",
       "       [205, 184],\n",
       "       [240, 154],\n",
       "       [250, 179],\n",
       "       [308, 170],\n",
       "       [318, 160],\n",
       "       [298, 178],\n",
       "       [265, 122],\n",
       "       [264, 160],\n",
       "       [277, 151],\n",
       "       [197, 156],\n",
       "       [214, 158],\n",
       "       [248, 122],\n",
       "       [255, 175],\n",
       "       [207, 168],\n",
       "       [223, 169],\n",
       "       [288, 159],\n",
       "       [160, 138],\n",
       "       [226, 111],\n",
       "       [394, 157],\n",
       "       [233, 147],\n",
       "       [315, 162],\n",
       "       [246, 173],\n",
       "       [244, 178],\n",
       "       [270, 145],\n",
       "       [195, 179],\n",
       "       [240, 194],\n",
       "       [196, 163],\n",
       "       [211, 115],\n",
       "       [234, 131],\n",
       "       [236, 152],\n",
       "       [244, 162],\n",
       "       [254, 159],\n",
       "       [325, 154],\n",
       "       [126, 173],\n",
       "       [313, 133],\n",
       "       [211, 161],\n",
       "       [262, 155],\n",
       "       [215, 170],\n",
       "       [214, 168],\n",
       "       [193, 162],\n",
       "       [204, 172],\n",
       "       [243, 152],\n",
       "       [303, 122],\n",
       "       [271, 182],\n",
       "       [268, 172],\n",
       "       [267, 167],\n",
       "       [199, 179],\n",
       "       [210, 192],\n",
       "       [204, 143],\n",
       "       [277, 172],\n",
       "       [196, 169],\n",
       "       [269, 121],\n",
       "       [201, 163],\n",
       "       [271, 162],\n",
       "       [295, 162],\n",
       "       [235, 153],\n",
       "       [306, 163],\n",
       "       [269, 163],\n",
       "       [178,  96],\n",
       "       [208, 140],\n",
       "       [201, 126],\n",
       "       [263, 105],\n",
       "       [295, 157],\n",
       "       [303, 181],\n",
       "       [209, 173],\n",
       "       [223, 142],\n",
       "       [197, 116],\n",
       "       [245, 143],\n",
       "       [242, 149],\n",
       "       [240, 171],\n",
       "       [226, 169],\n",
       "       [180, 150],\n",
       "       [228, 138],\n",
       "       [149, 125],\n",
       "       [227, 155],\n",
       "       [278, 152],\n",
       "       [220, 152],\n",
       "       [197, 131],\n",
       "       [253, 179],\n",
       "       [192, 174],\n",
       "       [220, 144],\n",
       "       [221, 163],\n",
       "       [240, 169],\n",
       "       [342, 166],\n",
       "       [157, 182],\n",
       "       [175, 173],\n",
       "       [175, 173],\n",
       "       [286, 108],\n",
       "       [229, 129],\n",
       "       [268, 160],\n",
       "       [254, 147],\n",
       "       [203, 155],\n",
       "       [256, 142],\n",
       "       [229, 168],\n",
       "       [284, 160],\n",
       "       [224, 173],\n",
       "       [206, 132],\n",
       "       [167, 114],\n",
       "       [230, 160],\n",
       "       [335, 158],\n",
       "       [177, 120],\n",
       "       [276, 112],\n",
       "       [353, 132],\n",
       "       [225, 114],\n",
       "       [330, 169],\n",
       "       [230, 165],\n",
       "       [243, 128],\n",
       "       [290, 153],\n",
       "       [253, 144],\n",
       "       [266, 109],\n",
       "       [233, 163],\n",
       "       [172, 158],\n",
       "       [305, 142],\n",
       "       [216, 131],\n",
       "       [188, 113],\n",
       "       [282, 142],\n",
       "       [185, 155],\n",
       "       [326, 140],\n",
       "       [231, 147],\n",
       "       [254, 163],\n",
       "       [267,  99],\n",
       "       [248, 158],\n",
       "       [197, 177],\n",
       "       [258, 141],\n",
       "       [270, 111],\n",
       "       [274, 150],\n",
       "       [164, 145],\n",
       "       [255, 161],\n",
       "       [239, 142],\n",
       "       [258, 157],\n",
       "       [188, 139],\n",
       "       [177, 162],\n",
       "       [229, 150],\n",
       "       [260, 140],\n",
       "       [219, 140],\n",
       "       [307, 146],\n",
       "       [249, 144],\n",
       "       [341, 136],\n",
       "       [263,  97],\n",
       "       [330, 132],\n",
       "       [254, 127],\n",
       "       [256, 150],\n",
       "       [407, 154],\n",
       "       [217, 111],\n",
       "       [282, 174],\n",
       "       [288, 133],\n",
       "       [239, 126],\n",
       "       [174, 125],\n",
       "       [281, 103],\n",
       "       [198, 130],\n",
       "       [288, 159],\n",
       "       [309, 131],\n",
       "       [243, 152],\n",
       "       [289, 124],\n",
       "       [289, 145],\n",
       "       [246,  96],\n",
       "       [322, 109],\n",
       "       [299, 173],\n",
       "       [300, 171],\n",
       "       [293, 170],\n",
       "       [304, 162],\n",
       "       [282, 156],\n",
       "       [269, 112],\n",
       "       [249, 143],\n",
       "       [212, 132],\n",
       "       [274,  88],\n",
       "       [184, 105],\n",
       "       [274, 166],\n",
       "       [409, 150],\n",
       "       [246, 120],\n",
       "       [283, 195],\n",
       "       [254, 146],\n",
       "       [298, 122],\n",
       "       [247, 143],\n",
       "       [294, 106],\n",
       "       [299, 125],\n",
       "       [273, 125],\n",
       "       [309, 147],\n",
       "       [259, 130],\n",
       "       [200, 126],\n",
       "       [244, 154],\n",
       "       [231, 182],\n",
       "       [228, 165],\n",
       "       [230, 160],\n",
       "       [282,  95],\n",
       "       [269, 169],\n",
       "       [206, 108],\n",
       "       [212, 132],\n",
       "       [327, 117],\n",
       "       [149, 126],\n",
       "       [286, 116],\n",
       "       [283, 103],\n",
       "       [249, 144],\n",
       "       [234, 145],\n",
       "       [237,  71],\n",
       "       [234, 156],\n",
       "       [275, 118],\n",
       "       [212, 168],\n",
       "       [218, 105],\n",
       "       [261, 141],\n",
       "       [319, 152],\n",
       "       [166, 125],\n",
       "       [315, 125],\n",
       "       [204, 156],\n",
       "       [218, 134],\n",
       "       [223, 181],\n",
       "       [207, 138],\n",
       "       [311, 120],\n",
       "       [204, 162],\n",
       "       [232, 164],\n",
       "       [335, 143],\n",
       "       [205, 130],\n",
       "       [203, 161],\n",
       "       [318, 140],\n",
       "       [225, 146],\n",
       "       [212, 150],\n",
       "       [169, 144],\n",
       "       [187, 144],\n",
       "       [197, 136],\n",
       "       [176,  90],\n",
       "       [241, 123],\n",
       "       [264, 132],\n",
       "       [193, 141],\n",
       "       [131, 115],\n",
       "       [236, 174]])"
      ]
     },
     "execution_count": 166,
     "metadata": {},
     "output_type": "execute_result"
    }
   ],
   "source": [
    "cdata.to_numpy()"
   ]
  },
  {
   "cell_type": "code",
   "execution_count": 167,
   "metadata": {},
   "outputs": [
    {
     "data": {
      "image/png": "[encoded data removed]",
      "text/plain": [
       "<matplotlib.figure.Figure at 0x1a1dd3e320>"
      ]
     },
     "metadata": {},
     "output_type": "display_data"
    }
   ],
   "source": [
    "#Using the elbow method to find the optimum number of clusters\n",
    "from sklearn.cluster import KMeans\n",
    "wcss = [] #minimizing within cluster sum of square \n",
    "X=cdata.to_numpy()\n",
    "for i in range(1,11):\n",
    "    km=KMeans(n_clusters=i,init='k-means++', max_iter=300, n_init=10, random_state=0) \n",
    "    #n_init set the number of time the k-means algorithm will be run with different centroid seeds.\n",
    "    #k-means++ provides a smart initialization. This method tries to spread out the initial set of centroids so that they are not too close together. \n",
    "    #k-means++ is known to improve the quality of local optima and lower average runtime.\n",
    "    #max_iter set the maximum number of iterations of the k-means algorithm for a single run.\n",
    "    #About random_state: If random_state is an integer, then it is used to seed a new RandomState object.\n",
    "    km.fit(X)\n",
    "    wcss.append(km.inertia_)\n",
    "plt.plot(range(1,11),wcss)\n",
    "plt.title('Elbow Method')\n",
    "plt.xlabel('Number of clusters')\n",
    "plt.ylabel('wcss')\n",
    "plt.show()"
   ]
  },
  {
   "cell_type": "markdown",
   "metadata": {
    "collapsed": true
   },
   "source": [
    "Based on the elbow plot, we could choose 4,5 or 6 clusters. Let us try both the number of clusters and visualize the clusters to decide on the final number of clusters."
   ]
  },
  {
   "cell_type": "markdown",
   "metadata": {},
   "source": [
    "## Model Fitting"
   ]
  },
  {
   "cell_type": "markdown",
   "metadata": {
    "collapsed": true
   },
   "source": [
    "### Fitting the k-means to the dataset with k=4"
   ]
  },
  {
   "cell_type": "code",
   "execution_count": 168,
   "metadata": {
    "collapsed": true
   },
   "outputs": [],
   "source": [
    "a = np.array([[1, 2], [1, 4], [1, 0],\n",
    "            [10, 2], [10, 4], [10, 0]])"
   ]
  },
  {
   "cell_type": "code",
   "execution_count": 169,
   "metadata": {},
   "outputs": [
    {
     "data": {
      "text/plain": [
       "array([[ 1,  2],\n",
       "       [ 1,  4],\n",
       "       [ 1,  0],\n",
       "       [10,  2],\n",
       "       [10,  4],\n",
       "       [10,  0]])"
      ]
     },
     "execution_count": 169,
     "metadata": {},
     "output_type": "execute_result"
    }
   ],
   "source": [
    "a"
   ]
  },
  {
   "cell_type": "code",
   "execution_count": 170,
   "metadata": {
    "collapsed": true
   },
   "outputs": [],
   "source": [
    "##Fitting kmeans to the dataset with k=4\n",
    "km4=KMeans(n_clusters=4,init='k-means++', max_iter=300, n_init=10, random_state=0)\n",
    "y_means = km4.fit_predict(X) #fit_predict compute cluster centers and predict cluster index for each sample.\n",
    "# y_means are the predicted cluster indexes. Cluster idexes are from 0-3 since there are only 4 clusters"
   ]
  },
  {
   "cell_type": "code",
   "execution_count": 171,
   "metadata": {},
   "outputs": [
    {
     "data": {
      "text/plain": [
       "array([3, 3, 2, 3, 1, 2, 1, 3, 2, 2, 3, 0, 3, 2, 3, 2, 1, 0, 3, 3, 3, 3, 3,\n",
       "       0, 2, 1, 2, 2, 1, 2, 2, 2, 3, 3, 2, 2, 1, 3, 3, 1, 1, 3, 2, 0, 1, 1,\n",
       "       3, 3, 2, 3, 3, 1, 3, 2, 3, 2, 3, 3, 2, 1, 0, 1, 2, 2, 2, 2, 2, 3, 3,\n",
       "       2, 3, 3, 2, 3, 2, 3, 3, 3, 2, 3, 3, 1, 1, 1, 0, 3, 3, 2, 2, 0, 3, 2,\n",
       "       3, 1, 2, 0, 1, 3, 1, 3, 3, 0, 2, 3, 2, 2, 0, 3, 3, 3, 1, 2, 1, 2, 3,\n",
       "       2, 2, 2, 2, 3, 1, 3, 3, 3, 2, 2, 2, 3, 2, 0, 2, 3, 1, 3, 1, 3, 2, 2,\n",
       "       2, 0, 1, 1, 2, 2, 2, 3, 3, 3, 3, 2, 3, 2, 3, 3, 2, 2, 3, 2, 2, 3, 3,\n",
       "       1, 2, 2, 2, 0, 0, 3, 3, 2, 3, 3, 1, 3, 2, 2, 3, 1, 2, 0, 1, 0, 1, 3,\n",
       "       0, 1, 3, 0, 3, 2, 1, 2, 2, 0, 2, 1, 3, 3, 0, 3, 2, 0, 0, 3, 2, 3, 3,\n",
       "       3, 2, 2, 3, 0, 2, 1, 3, 1, 0, 1, 0, 3, 1, 0, 3, 0, 0, 2, 0, 2, 1, 1,\n",
       "       3, 0, 1, 0, 1, 1, 1, 1, 1, 3, 0, 3, 2, 0, 2, 3, 1, 0, 3, 3, 1, 3, 0,\n",
       "       1, 0, 1, 0, 2, 3, 3, 3, 3, 0, 3, 2, 2, 1, 2, 0, 0, 3, 3, 0, 3, 0, 2,\n",
       "       0, 0, 1, 2, 1, 2, 2, 3, 2, 1, 2, 3, 1, 2, 2, 1, 3, 2, 2, 2, 2, 2, 0,\n",
       "       0, 2, 2, 3], dtype=int32)"
      ]
     },
     "execution_count": 171,
     "metadata": {},
     "output_type": "execute_result"
    }
   ],
   "source": [
    "y_means"
   ]
  },
  {
   "cell_type": "code",
   "execution_count": 172,
   "metadata": {},
   "outputs": [
    {
     "data": {
      "text/plain": [
       "array([[233, 150],\n",
       "       [250, 187],\n",
       "       [236, 178],\n",
       "       [263, 173],\n",
       "       [239, 160],\n",
       "       [266, 171],\n",
       "       [283, 162],\n",
       "       [247, 171],\n",
       "       [239, 151],\n",
       "       [234, 161],\n",
       "       [233, 179],\n",
       "       [226, 178],\n",
       "       [219, 188],\n",
       "       [273, 152],\n",
       "       [232, 165],\n",
       "       [269, 148],\n",
       "       [245, 180],\n",
       "       [235, 180],\n",
       "       [257, 156],\n",
       "       [234, 160],\n",
       "       [256, 149],\n",
       "       [231, 146],\n",
       "       [252, 172],\n",
       "       [222, 186],\n",
       "       [260, 185],\n",
       "       [234, 175],\n",
       "       [220, 170],\n",
       "       [258, 147],\n",
       "       [227, 154],\n",
       "       [261, 186],\n",
       "       [250, 161],\n",
       "       [245, 166],\n",
       "       [221, 164],\n",
       "       [240, 154],\n",
       "       [250, 179],\n",
       "       [264, 160],\n",
       "       [277, 151],\n",
       "       [255, 175],\n",
       "       [223, 169],\n",
       "       [233, 147],\n",
       "       [246, 173],\n",
       "       [244, 178],\n",
       "       [240, 194],\n",
       "       [236, 152],\n",
       "       [244, 162],\n",
       "       [254, 159],\n",
       "       [262, 155],\n",
       "       [243, 152],\n",
       "       [271, 182],\n",
       "       [268, 172],\n",
       "       [267, 167],\n",
       "       [277, 172],\n",
       "       [271, 162],\n",
       "       [235, 153],\n",
       "       [269, 163],\n",
       "       [245, 143],\n",
       "       [242, 149],\n",
       "       [240, 171],\n",
       "       [226, 169],\n",
       "       [228, 138],\n",
       "       [227, 155],\n",
       "       [278, 152],\n",
       "       [253, 179],\n",
       "       [221, 163],\n",
       "       [240, 169],\n",
       "       [268, 160],\n",
       "       [254, 147],\n",
       "       [256, 142],\n",
       "       [229, 168],\n",
       "       [224, 173],\n",
       "       [230, 160],\n",
       "       [230, 165],\n",
       "       [253, 144],\n",
       "       [233, 163],\n",
       "       [231, 147],\n",
       "       [254, 163],\n",
       "       [248, 158],\n",
       "       [274, 150],\n",
       "       [255, 161],\n",
       "       [239, 142],\n",
       "       [258, 157],\n",
       "       [229, 150],\n",
       "       [249, 144],\n",
       "       [256, 150],\n",
       "       [282, 174],\n",
       "       [243, 152],\n",
       "       [282, 156],\n",
       "       [249, 143],\n",
       "       [274, 166],\n",
       "       [283, 195],\n",
       "       [254, 146],\n",
       "       [247, 143],\n",
       "       [244, 154],\n",
       "       [231, 182],\n",
       "       [228, 165],\n",
       "       [230, 160],\n",
       "       [269, 169],\n",
       "       [249, 144],\n",
       "       [234, 145],\n",
       "       [234, 156],\n",
       "       [223, 181],\n",
       "       [232, 164],\n",
       "       [225, 146],\n",
       "       [236, 174]])"
      ]
     },
     "execution_count": 172,
     "metadata": {},
     "output_type": "execute_result"
    }
   ],
   "source": [
    "X[y_means==3]"
   ]
  },
  {
   "cell_type": "code",
   "execution_count": 173,
   "metadata": {},
   "outputs": [
    {
     "data": {
      "text/plain": [
       "array([233, 250, 236, 263, 239, 266, 283, 247, 239, 234, 233, 226, 219,\n",
       "       273, 232, 269, 245, 235, 257, 234, 256, 231, 252, 222, 260, 234,\n",
       "       220, 258, 227, 261, 250, 245, 221, 240, 250, 264, 277, 255, 223,\n",
       "       233, 246, 244, 240, 236, 244, 254, 262, 243, 271, 268, 267, 277,\n",
       "       271, 235, 269, 245, 242, 240, 226, 228, 227, 278, 253, 221, 240,\n",
       "       268, 254, 256, 229, 224, 230, 230, 253, 233, 231, 254, 248, 274,\n",
       "       255, 239, 258, 229, 249, 256, 282, 243, 282, 249, 274, 283, 254,\n",
       "       247, 244, 231, 228, 230, 269, 249, 234, 234, 223, 232, 225, 236])"
      ]
     },
     "execution_count": 173,
     "metadata": {},
     "output_type": "execute_result"
    }
   ],
   "source": [
    "X[y_means==3,0]"
   ]
  },
  {
   "cell_type": "code",
   "execution_count": 174,
   "metadata": {},
   "outputs": [
    {
     "data": {
      "text/plain": [
       "array([150, 187, 178, 173, 160, 171, 162, 171, 151, 161, 179, 178, 188,\n",
       "       152, 165, 148, 180, 180, 156, 160, 149, 146, 172, 186, 185, 175,\n",
       "       170, 147, 154, 186, 161, 166, 164, 154, 179, 160, 151, 175, 169,\n",
       "       147, 173, 178, 194, 152, 162, 159, 155, 152, 182, 172, 167, 172,\n",
       "       162, 153, 163, 143, 149, 171, 169, 138, 155, 152, 179, 163, 169,\n",
       "       160, 147, 142, 168, 173, 160, 165, 144, 163, 147, 163, 158, 150,\n",
       "       161, 142, 157, 150, 144, 150, 174, 152, 156, 143, 166, 195, 146,\n",
       "       143, 154, 182, 165, 160, 169, 144, 145, 156, 181, 164, 146, 174])"
      ]
     },
     "execution_count": 174,
     "metadata": {},
     "output_type": "execute_result"
    }
   ],
   "source": [
    "X[y_means==3,1]"
   ]
  },
  {
   "cell_type": "code",
   "execution_count": 175,
   "metadata": {},
   "outputs": [
    {
     "data": {
      "text/plain": [
       "array([[ 259.76086957,  118.58695652],\n",
       "       [ 319.53571429,  151.73214286],\n",
       "       [ 194.19587629,  149.50515464],\n",
       "       [ 246.51923077,  162.39423077]])"
      ]
     },
     "execution_count": 175,
     "metadata": {},
     "output_type": "execute_result"
    }
   ],
   "source": [
    "km4.cluster_centers_"
   ]
  },
  {
   "cell_type": "code",
   "execution_count": 176,
   "metadata": {},
   "outputs": [
    {
     "data": {
      "image/png": "[encoded data removed]",
      "text/plain": [
       "<matplotlib.figure.Figure at 0x1a1e56bac8>"
      ]
     },
     "metadata": {},
     "output_type": "display_data"
    }
   ],
   "source": [
    "#Visualizing the clusters for k=4\n",
    "plt.scatter(X[y_means==0,0],X[y_means==0,1],s=50, c='purple',label='Cluster1') #s : scalar or array_like, shape (n, ),means the size of each scatter\n",
    "plt.scatter(X[y_means==1,0],X[y_means==1,1],s=50, c='blue',label='Cluster2')\n",
    "plt.scatter(X[y_means==2,0],X[y_means==2,1],s=50, c='green',label='Cluster3')\n",
    "plt.scatter(X[y_means==3,0],X[y_means==3,1],s=50, c='cyan',label='Cluster4')\n",
    "#X[y_means==3,0] returns the x axis (income) value when y_means==3;\n",
    "#X[y_means==3,1] returns the y axis (spend) value when y_means==3;\n",
    "\n",
    "plt.scatter(km4.cluster_centers_[:,0], km4.cluster_centers_[:,1],s=200,marker='s', c='red', alpha=0.7, label='Centroids')\n",
    "#plt.scatter(km4.cluster_centers_[:,0] returns the first column and all rows\n",
    "#km4.cluster_centers_[1,:] returns the values of the first row and all columns\n",
    "\n",
    "plt.title('Customer segments')\n",
    "plt.xlabel('Annual income of customer')\n",
    "plt.ylabel('Annual spend from customer on site')\n",
    "plt.legend()\n",
    "plt.show()"
   ]
  },
  {
   "cell_type": "markdown",
   "metadata": {},
   "source": [
    "The plot shows the distribution of the 4 clusters. We could interpret them as the following customer segments:\n",
    "\n",
    "Cluster 1: Customers with medium annual income and low annual spend\n",
    "\n",
    "Cluster 2: Customers with high annual income and medium to high annual spend\n",
    "\n",
    "Cluster 3: Customers with low annual income\n",
    "\n",
    "Cluster 4: Customers with medium annual income but high annual spend"
   ]
  },
  {
   "cell_type": "markdown",
   "metadata": {
    "collapsed": true
   },
   "source": [
    "Cluster 4 straight away is one potential customer segment. However, Cluster 2 and 3 can be segmented further to arrive at a more specific target customer group. Let us now look at how the clusters are created when k=6:"
   ]
  },
  {
   "cell_type": "markdown",
   "metadata": {},
   "source": [
    "### Fitting kmeans to the dataset with k=6"
   ]
  },
  {
   "cell_type": "code",
   "execution_count": 177,
   "metadata": {},
   "outputs": [
    {
     "data": {
      "image/png": "[encoded data removed]",
      "text/plain": [
       "<matplotlib.figure.Figure at 0x1a1e814ef0>"
      ]
     },
     "metadata": {},
     "output_type": "display_data"
    }
   ],
   "source": [
    "##Fitting kmeans to the dataset with k=6\n",
    "km6=KMeans(n_clusters=6,init='k-means++', max_iter=300, n_init=10, random_state=0)\n",
    "y_means = km6.fit_predict(X) #fit_predict compute cluster centers and predict cluster index for each sample.\n",
    "# y_means are the predicted cluster indexes. Cluster idexes are from 0-3 since there are only 4 clusters\n",
    "\n",
    "#Visualizing the clusters for k=6\n",
    "plt.scatter(X[y_means==0,0],X[y_means==0,1],s=50, c='purple',label='Cluster1') #s : scalar or array_like, shape (n, ),means the size of each scatter\n",
    "plt.scatter(X[y_means==1,0],X[y_means==1,1],s=50, c='blue',label='Cluster2')\n",
    "plt.scatter(X[y_means==2,0],X[y_means==2,1],s=50, c='green',label='Cluster3')\n",
    "plt.scatter(X[y_means==3,0],X[y_means==3,1],s=50, c='cyan',label='Cluster4')\n",
    "#X[y_means==3,0] returns the x axis (income) value when y_means==3;\n",
    "#X[y_means==3,1] returns the y axis (spend) value when y_means==3;\n",
    "plt.scatter(X[y_means==4,0],X[y_means==4,1],s=50, c='magenta',label='Cluster5')\n",
    "plt.scatter(X[y_means==5,0],X[y_means==5,1],s=50, c='orange',label='Cluster6')\n",
    "\n",
    "plt.scatter(km6.cluster_centers_[:,0], km6.cluster_centers_[:,1],s=200,marker='s', c='red', alpha=0.7, label='Centroids')\n",
    "#plt.scatter(km6.cluster_centers_[:,0] returns the first column and all rows\n",
    "#km6.cluster_centers_[1,:] returns the values of the first row and all columns\n",
    "\n",
    "plt.title('Customer segments')\n",
    "plt.xlabel('Annual income of customer')\n",
    "plt.ylabel('Annual spend from customer on site')\n",
    "plt.legend()\n",
    "plt.show()"
   ]
  },
  {
   "cell_type": "markdown",
   "metadata": {
    "collapsed": true
   },
   "source": [
    "Setting the number of clusters to 6 seems to provide a more meaningful customer segmentation.\n",
    "\n",
    "\n",
    "Cluster 1: Medium income, low annual spend\n",
    "    \n",
    "Cluster 2: Low income, low annual spend\n",
    "    \n",
    "Cluster 3: High income, high annual spend\n",
    "    \n",
    "Cluster 4: Low income, high annual spend\n",
    "    \n",
    "Cluster 5: Medium income, medium annual spend\n",
    "    \n",
    "Cluster 6: Very high income, high annual spend\n",
    "\n",
    "\n",
    "Thus it is evident that 6 clusters provides a more meaningful segmentation of the customers."
   ]
  },
  {
   "cell_type": "markdown",
   "metadata": {},
   "source": [
    "## Marketing strategies for the customer segments"
   ]
  },
  {
   "cell_type": "markdown",
   "metadata": {
    "collapsed": true
   },
   "source": [
    "Based on the 6 clusters, we could formulate marketing strategies relevant to each cluster:\n",
    "A typical strategy would focus certain promotional efforts for the high value customers of Cluster 6 & Cluster 3."
   ]
  },
  {
   "cell_type": "markdown",
   "metadata": {
    "collapsed": true
   },
   "source": [
    "- A typical strategy would focus certain promotional efforts for the high value customers of Cluster 6 & Cluster 3.\n",
    "\n",
    "\n",
    "- Cluster 4 is a unique customer segment, where in spite of their relatively lower annual income, these customers tend to spend more on the site, indicating their loyalty. There could be some discounted pricing based promotional campaigns for this group so as to retain them.\n",
    "\n",
    "\n",
    "- For Cluster 2 where both the income and annual spend are low, further analysis could be needed to find the reasons for the lower spend and price-sensitive strategies could be introduced to increase the spend from this segment.\n",
    "\n",
    "\n",
    "- Customers in clusters 1 is not spending enough on the site in spite of a good annual income — further analysis of these segments could lead to insights on the satisfaction / dissatisfaction of these customers or lesser visibility of the e-commerce site to these customers. Strategies could be evolved accordingly."
   ]
  },
  {
   "cell_type": "code",
   "execution_count": null,
   "metadata": {
    "collapsed": true
   },
   "outputs": [],
   "source": []
  },
  {
   "cell_type": "code",
   "execution_count": null,
   "metadata": {
    "collapsed": true
   },
   "outputs": [],
   "source": []
  },
  {
   "cell_type": "code",
   "execution_count": null,
   "metadata": {
    "collapsed": true
   },
   "outputs": [],
   "source": []
  },
  {
   "cell_type": "code",
   "execution_count": null,
   "metadata": {
    "collapsed": true
   },
   "outputs": [],
   "source": []
  },
  {
   "cell_type": "code",
   "execution_count": null,
   "metadata": {
    "collapsed": true
   },
   "outputs": [],
   "source": []
  },
  {
   "cell_type": "code",
   "execution_count": null,
   "metadata": {
    "collapsed": true
   },
   "outputs": [],
   "source": []
  },
  {
   "cell_type": "code",
   "execution_count": null,
   "metadata": {
    "collapsed": true
   },
   "outputs": [],
   "source": []
  }
 ],
 "metadata": {
  "kernelspec": {
   "display_name": "Python 3",
   "language": "python",
   "name": "python3"
  },
  "language_info": {
   "codemirror_mode": {
    "name": "ipython",
    "version": 3
   },
   "file_extension": ".py",
   "mimetype": "text/x-python",
   "name": "python",
   "nbconvert_exporter": "python",
   "pygments_lexer": "ipython3",
   "version": "3.6.3"
  }
 },
 "nbformat": 4,
 "nbformat_minor": 2
}
